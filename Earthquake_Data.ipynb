{
 "cells": [
  {
   "cell_type": "code",
   "execution_count": 50,
   "metadata": {
    "collapsed": true
   },
   "outputs": [],
   "source": [
    "import pandas as pd\n",
    "import numpy as np\n",
    "import requests\n",
    "import json\n",
    "import pickle\n",
    "from dateutil import rrule\n",
    "import datetime as dt\n",
    "from datetime import datetime, timedelta\n",
    "import matplotlib\n",
    "%matplotlib inline\n"
   ]
  },
  {
   "cell_type": "code",
   "execution_count": 67,
   "metadata": {
    "collapsed": true
   },
   "outputs": [],
   "source": [
    "url = 'http://earthquake.usgs.gov/fdsnws/event/1/query?format=geojson&starttime=2016-01-01&endtime=2016-01-31'\n",
    "data = '{\"query\":{\"bool\":{\"must\":[{\"text\":{\"record.document\":\"SOME_JOURNAL\"}},{\"text\":{\"record.articleTitle\":\"farmers\"}}],\"must_not\":[],\"should\":[]}},\"from\":0,\"size\":50,\"sort\":[],\"facets\":{}}'\n",
    "response = requests.get(url, data=None)\n",
    "data = geojson.loads(response.text)"
   ]
  },
  {
   "cell_type": "code",
   "execution_count": 10,
   "metadata": {
    "collapsed": false
   },
   "outputs": [],
   "source": [
    "data = json.loads(response.text)"
   ]
  },
  {
   "cell_type": "code",
   "execution_count": 13,
   "metadata": {
    "collapsed": true
   },
   "outputs": [],
   "source": [
    "data = response.json()"
   ]
  },
  {
   "cell_type": "code",
   "execution_count": 14,
   "metadata": {
    "collapsed": false
   },
   "outputs": [
    {
     "name": "stdout",
     "output_type": "stream",
     "text": [
      "Point\n",
      "[-122.7747, 38.8377, 2.8]\n"
     ]
    }
   ],
   "source": []
  },
  {
   "cell_type": "code",
   "execution_count": 15,
   "metadata": {
    "collapsed": true
   },
   "outputs": [],
   "source": []
  },
  {
   "cell_type": "code",
   "execution_count": 32,
   "metadata": {
    "collapsed": false
   },
   "outputs": [],
   "source": [
    "data = geojson.loads(response.text)"
   ]
  },
  {
   "cell_type": "code",
   "execution_count": 22,
   "metadata": {
    "collapsed": false
   },
   "outputs": [
    {
     "name": "stdout",
     "output_type": "stream",
     "text": [
      "Point\n",
      "[-122.7747, 38.8377, 2.8]\n"
     ]
    }
   ],
   "source": [
    "for feature in data['features']:\n",
    "    print(feature['geometry']['type'])\n",
    "    print(feature['geometry']['coordinates'])\n",
    "    break"
   ]
  },
  {
   "cell_type": "code",
   "execution_count": 27,
   "metadata": {
    "collapsed": false
   },
   "outputs": [
    {
     "data": {
      "text/plain": [
       "geojson.feature.FeatureCollection"
      ]
     },
     "execution_count": 27,
     "metadata": {},
     "output_type": "execute_result"
    }
   ],
   "source": [
    "type(data)"
   ]
  },
  {
   "cell_type": "code",
   "execution_count": 28,
   "metadata": {
    "collapsed": false
   },
   "outputs": [
    {
     "name": "stdout",
     "output_type": "stream",
     "text": [
      "type\n"
     ]
    }
   ],
   "source": [
    "for indx, feature in enumerate(data):\n",
    "    print(feature)\n",
    "    break"
   ]
  },
  {
   "cell_type": "code",
   "execution_count": 66,
   "metadata": {
    "collapsed": false
   },
   "outputs": [
    {
     "ename": "AttributeError",
     "evalue": "'str' object has no attribute 'features'",
     "output_type": "error",
     "traceback": [
      "\u001b[1;31m---------------------------------------------------------------------------\u001b[0m",
      "\u001b[1;31mAttributeError\u001b[0m                            Traceback (most recent call last)",
      "\u001b[1;32m<ipython-input-66-87f45c35c2db>\u001b[0m in \u001b[0;36m<module>\u001b[1;34m()\u001b[0m\n\u001b[1;32m----> 1\u001b[1;33m \u001b[0mlen\u001b[0m\u001b[1;33m(\u001b[0m\u001b[0mdata\u001b[0m\u001b[1;33m.\u001b[0m\u001b[0mfeatures\u001b[0m\u001b[1;33m)\u001b[0m\u001b[1;33m\u001b[0m\u001b[0m\n\u001b[0m",
      "\u001b[1;31mAttributeError\u001b[0m: 'str' object has no attribute 'features'"
     ]
    }
   ],
   "source": [
    "len(data.features)"
   ]
  },
  {
   "cell_type": "code",
   "execution_count": 39,
   "metadata": {
    "collapsed": true
   },
   "outputs": [],
   "source": [
    "# https://wiki.python.org/moin/UsingPickle\n",
    "pickle.dump(data, open(\"earthquake_Jan2016.p\", \"wb\" ))\n",
    "# favorite_color = pickle.load( open( \"save.p\", \"rb\" ) )"
   ]
  },
  {
   "cell_type": "code",
   "execution_count": 40,
   "metadata": {
    "collapsed": false
   },
   "outputs": [
    {
     "ename": "JSONDecodeError",
     "evalue": "Expecting value: line 1 column 1 (char 0)",
     "output_type": "error",
     "traceback": [
      "\u001b[1;31m---------------------------------------------------------------------------\u001b[0m",
      "\u001b[1;31mJSONDecodeError\u001b[0m                           Traceback (most recent call last)",
      "\u001b[1;32m<ipython-input-40-c44a4892e1b7>\u001b[0m in \u001b[0;36m<module>\u001b[1;34m()\u001b[0m\n\u001b[0;32m      2\u001b[0m \u001b[0mdata\u001b[0m \u001b[1;33m=\u001b[0m \u001b[1;34m'{\"query\":{\"bool\":{\"must\":[{\"text\":{\"record.document\":\"SOME_JOURNAL\"}},{\"text\":{\"record.articleTitle\":\"farmers\"}}],\"must_not\":[],\"should\":[]}},\"from\":0,\"size\":50,\"sort\":[],\"facets\":{}}'\u001b[0m\u001b[1;33m\u001b[0m\u001b[0m\n\u001b[0;32m      3\u001b[0m \u001b[0mresponse\u001b[0m \u001b[1;33m=\u001b[0m \u001b[0mrequests\u001b[0m\u001b[1;33m.\u001b[0m\u001b[0mget\u001b[0m\u001b[1;33m(\u001b[0m\u001b[0murl\u001b[0m\u001b[1;33m,\u001b[0m \u001b[0mdata\u001b[0m\u001b[1;33m=\u001b[0m\u001b[1;32mNone\u001b[0m\u001b[1;33m)\u001b[0m\u001b[1;33m\u001b[0m\u001b[0m\n\u001b[1;32m----> 4\u001b[1;33m \u001b[0mdata\u001b[0m \u001b[1;33m=\u001b[0m \u001b[0mgeojson\u001b[0m\u001b[1;33m.\u001b[0m\u001b[0mloads\u001b[0m\u001b[1;33m(\u001b[0m\u001b[0mresponse\u001b[0m\u001b[1;33m.\u001b[0m\u001b[0mtext\u001b[0m\u001b[1;33m)\u001b[0m\u001b[1;33m\u001b[0m\u001b[0m\n\u001b[0m",
      "\u001b[1;32mC:\\Python35\\lib\\site-packages\\geojson\\codec.py\u001b[0m in \u001b[0;36mloads\u001b[1;34m(s, cls, parse_constant, object_hook, **kwargs)\u001b[0m\n\u001b[0;32m     53\u001b[0m                       \u001b[0mcls\u001b[0m\u001b[1;33m=\u001b[0m\u001b[0mcls\u001b[0m\u001b[1;33m,\u001b[0m \u001b[0mobject_hook\u001b[0m\u001b[1;33m=\u001b[0m\u001b[0mobject_hook\u001b[0m\u001b[1;33m,\u001b[0m\u001b[1;33m\u001b[0m\u001b[0m\n\u001b[0;32m     54\u001b[0m                       \u001b[0mparse_constant\u001b[0m\u001b[1;33m=\u001b[0m\u001b[0mparse_constant\u001b[0m\u001b[1;33m,\u001b[0m\u001b[1;33m\u001b[0m\u001b[0m\n\u001b[1;32m---> 55\u001b[1;33m                       **kwargs)\n\u001b[0m\u001b[0;32m     56\u001b[0m \u001b[1;33m\u001b[0m\u001b[0m\n\u001b[0;32m     57\u001b[0m \u001b[1;33m\u001b[0m\u001b[0m\n",
      "\u001b[1;32mC:\\Python35\\lib\\json\\__init__.py\u001b[0m in \u001b[0;36mloads\u001b[1;34m(s, encoding, cls, object_hook, parse_float, parse_int, parse_constant, object_pairs_hook, **kw)\u001b[0m\n\u001b[0;32m    330\u001b[0m     \u001b[1;32mif\u001b[0m \u001b[0mparse_constant\u001b[0m \u001b[1;32mis\u001b[0m \u001b[1;32mnot\u001b[0m \u001b[1;32mNone\u001b[0m\u001b[1;33m:\u001b[0m\u001b[1;33m\u001b[0m\u001b[0m\n\u001b[0;32m    331\u001b[0m         \u001b[0mkw\u001b[0m\u001b[1;33m[\u001b[0m\u001b[1;34m'parse_constant'\u001b[0m\u001b[1;33m]\u001b[0m \u001b[1;33m=\u001b[0m \u001b[0mparse_constant\u001b[0m\u001b[1;33m\u001b[0m\u001b[0m\n\u001b[1;32m--> 332\u001b[1;33m     \u001b[1;32mreturn\u001b[0m \u001b[0mcls\u001b[0m\u001b[1;33m(\u001b[0m\u001b[1;33m**\u001b[0m\u001b[0mkw\u001b[0m\u001b[1;33m)\u001b[0m\u001b[1;33m.\u001b[0m\u001b[0mdecode\u001b[0m\u001b[1;33m(\u001b[0m\u001b[0ms\u001b[0m\u001b[1;33m)\u001b[0m\u001b[1;33m\u001b[0m\u001b[0m\n\u001b[0m",
      "\u001b[1;32mC:\\Python35\\lib\\json\\decoder.py\u001b[0m in \u001b[0;36mdecode\u001b[1;34m(self, s, _w)\u001b[0m\n\u001b[0;32m    337\u001b[0m \u001b[1;33m\u001b[0m\u001b[0m\n\u001b[0;32m    338\u001b[0m         \"\"\"\n\u001b[1;32m--> 339\u001b[1;33m         \u001b[0mobj\u001b[0m\u001b[1;33m,\u001b[0m \u001b[0mend\u001b[0m \u001b[1;33m=\u001b[0m \u001b[0mself\u001b[0m\u001b[1;33m.\u001b[0m\u001b[0mraw_decode\u001b[0m\u001b[1;33m(\u001b[0m\u001b[0ms\u001b[0m\u001b[1;33m,\u001b[0m \u001b[0midx\u001b[0m\u001b[1;33m=\u001b[0m\u001b[0m_w\u001b[0m\u001b[1;33m(\u001b[0m\u001b[0ms\u001b[0m\u001b[1;33m,\u001b[0m \u001b[1;36m0\u001b[0m\u001b[1;33m)\u001b[0m\u001b[1;33m.\u001b[0m\u001b[0mend\u001b[0m\u001b[1;33m(\u001b[0m\u001b[1;33m)\u001b[0m\u001b[1;33m)\u001b[0m\u001b[1;33m\u001b[0m\u001b[0m\n\u001b[0m\u001b[0;32m    340\u001b[0m         \u001b[0mend\u001b[0m \u001b[1;33m=\u001b[0m \u001b[0m_w\u001b[0m\u001b[1;33m(\u001b[0m\u001b[0ms\u001b[0m\u001b[1;33m,\u001b[0m \u001b[0mend\u001b[0m\u001b[1;33m)\u001b[0m\u001b[1;33m.\u001b[0m\u001b[0mend\u001b[0m\u001b[1;33m(\u001b[0m\u001b[1;33m)\u001b[0m\u001b[1;33m\u001b[0m\u001b[0m\n\u001b[0;32m    341\u001b[0m         \u001b[1;32mif\u001b[0m \u001b[0mend\u001b[0m \u001b[1;33m!=\u001b[0m \u001b[0mlen\u001b[0m\u001b[1;33m(\u001b[0m\u001b[0ms\u001b[0m\u001b[1;33m)\u001b[0m\u001b[1;33m:\u001b[0m\u001b[1;33m\u001b[0m\u001b[0m\n",
      "\u001b[1;32mC:\\Python35\\lib\\json\\decoder.py\u001b[0m in \u001b[0;36mraw_decode\u001b[1;34m(self, s, idx)\u001b[0m\n\u001b[0;32m    355\u001b[0m             \u001b[0mobj\u001b[0m\u001b[1;33m,\u001b[0m \u001b[0mend\u001b[0m \u001b[1;33m=\u001b[0m \u001b[0mself\u001b[0m\u001b[1;33m.\u001b[0m\u001b[0mscan_once\u001b[0m\u001b[1;33m(\u001b[0m\u001b[0ms\u001b[0m\u001b[1;33m,\u001b[0m \u001b[0midx\u001b[0m\u001b[1;33m)\u001b[0m\u001b[1;33m\u001b[0m\u001b[0m\n\u001b[0;32m    356\u001b[0m         \u001b[1;32mexcept\u001b[0m \u001b[0mStopIteration\u001b[0m \u001b[1;32mas\u001b[0m \u001b[0merr\u001b[0m\u001b[1;33m:\u001b[0m\u001b[1;33m\u001b[0m\u001b[0m\n\u001b[1;32m--> 357\u001b[1;33m             \u001b[1;32mraise\u001b[0m \u001b[0mJSONDecodeError\u001b[0m\u001b[1;33m(\u001b[0m\u001b[1;34m\"Expecting value\"\u001b[0m\u001b[1;33m,\u001b[0m \u001b[0ms\u001b[0m\u001b[1;33m,\u001b[0m \u001b[0merr\u001b[0m\u001b[1;33m.\u001b[0m\u001b[0mvalue\u001b[0m\u001b[1;33m)\u001b[0m \u001b[1;32mfrom\u001b[0m \u001b[1;32mNone\u001b[0m\u001b[1;33m\u001b[0m\u001b[0m\n\u001b[0m\u001b[0;32m    358\u001b[0m         \u001b[1;32mreturn\u001b[0m \u001b[0mobj\u001b[0m\u001b[1;33m,\u001b[0m \u001b[0mend\u001b[0m\u001b[1;33m\u001b[0m\u001b[0m\n",
      "\u001b[1;31mJSONDecodeError\u001b[0m: Expecting value: line 1 column 1 (char 0)"
     ]
    }
   ],
   "source": [
    "url = 'http://earthquake.usgs.gov/fdsnws/event/1/query?format=geojson&starttime=2016-01-01&endtime=2016-12-31'\n",
    "data = '{\"query\":{\"bool\":{\"must\":[{\"text\":{\"record.document\":\"SOME_JOURNAL\"}},{\"text\":{\"record.articleTitle\":\"farmers\"}}],\"must_not\":[],\"should\":[]}},\"from\":0,\"size\":50,\"sort\":[],\"facets\":{}}'\n",
    "response = requests.get(url, data=None)\n",
    "data = geojson.loads(response.text)"
   ]
  },
  {
   "cell_type": "code",
   "execution_count": 75,
   "metadata": {
    "collapsed": false
   },
   "outputs": [
    {
     "name": "stdout",
     "output_type": "stream",
     "text": [
      "2016-01-01 2016-01-31\n",
      "2016-02-01 2016-02-29\n",
      "2016-03-01 2016-03-31\n",
      "2016-04-01 2016-04-30\n",
      "2016-05-01 2016-05-31\n",
      "2016-06-01 2016-06-30\n",
      "2016-07-01 2016-07-31\n",
      "2016-08-01 2016-08-31\n",
      "2016-09-01 2016-09-30\n",
      "2016-10-01 2016-10-31\n",
      "2016-11-01 2016-11-30\n",
      "2016-12-01 2016-12-31\n"
     ]
    }
   ],
   "source": [
    "start = datetime(2016, 1, 1, 0, 0)\n",
    "months = list(rrule.rrule(rrule.MONTHLY, count=13, dtstart=start))    \n",
    "\n",
    "annual_earthquakes = list()\n",
    "\n",
    "for i in range(len(months)-1):\n",
    "    date = months[i]\n",
    "    print(str(date.date()), str((months[i+1] - timedelta(days=1)).date()))\n",
    "    url = 'http://earthquake.usgs.gov/fdsnws/event/1/query?format=geojson&starttime='+str(date.date())+'&endtime=' + str((months[i+1]-timedelta(days=1)).date())\n",
    "#     http://stackoverflow.com/questions/17301938/making-a-request-to-a-restful-api-using-python\n",
    "    response = requests.get(url, data=None)\n",
    "    data = geojson.loads(response.text)\n",
    "    annual_earthquakes.extend(data.features)"
   ]
  },
  {
   "cell_type": "code",
   "execution_count": 80,
   "metadata": {
    "collapsed": false
   },
   "outputs": [
    {
     "data": {
      "text/plain": [
       "97356"
      ]
     },
     "execution_count": 80,
     "metadata": {},
     "output_type": "execute_result"
    }
   ],
   "source": [
    "len(annual_earthquakes)"
   ]
  },
  {
   "cell_type": "code",
   "execution_count": 78,
   "metadata": {
    "collapsed": true
   },
   "outputs": [],
   "source": [
    "pickle.dump(annual_earthquakes, open(\"earthquake_2016.p\", \"wb\" ))"
   ]
  },
  {
   "cell_type": "code",
   "execution_count": 70,
   "metadata": {
    "collapsed": false
   },
   "outputs": [
    {
     "data": {
      "text/plain": [
       "{\"geometry\": {\"coordinates\": [-122.8478317, 38.836834, 2.65], \"type\": \"Point\"}, \"id\": \"nc72586646\", \"properties\": {\"alert\": null, \"cdi\": null, \"code\": \"72586646\", \"detail\": \"http://earthquake.usgs.gov/fdsnws/event/1/query?eventid=nc72586646&format=geojson\", \"dmin\": 0.009799, \"felt\": null, \"gap\": 143, \"ids\": \",nc72586646,\", \"mag\": 0.43, \"magType\": \"md\", \"mmi\": null, \"net\": \"nc\", \"nst\": 7, \"place\": \"10km W of Cobb, California\", \"rms\": 0.03, \"sig\": 3, \"sources\": \",nc,\", \"status\": \"automatic\", \"time\": 1454198395340, \"title\": \"M 0.4 - 10km W of Cobb, California\", \"tsunami\": 0, \"type\": \"earthquake\", \"types\": \",general-link,geoserve,nearby-cities,origin,phase-data,scitech-link,\", \"tz\": -480, \"updated\": 1454201165963, \"url\": \"http://earthquake.usgs.gov/earthquakes/eventpage/nc72586646\"}, \"type\": \"Feature\"}"
      ]
     },
     "execution_count": 70,
     "metadata": {},
     "output_type": "execute_result"
    }
   ],
   "source": [
    "ft1[0]"
   ]
  },
  {
   "cell_type": "code",
   "execution_count": 71,
   "metadata": {
    "collapsed": true
   },
   "outputs": [],
   "source": [
    "data.features.append(ft1[0])"
   ]
  },
  {
   "cell_type": "code",
   "execution_count": 84,
   "metadata": {
    "collapsed": false
   },
   "outputs": [
    {
     "data": {
      "text/plain": [
       "9615"
      ]
     },
     "execution_count": 84,
     "metadata": {},
     "output_type": "execute_result"
    }
   ],
   "source": [
    "len(data.features)"
   ]
  },
  {
   "cell_type": "code",
   "execution_count": 73,
   "metadata": {
    "collapsed": true
   },
   "outputs": [],
   "source": [
    "data.features.extend(ft1)"
   ]
  },
  {
   "cell_type": "code",
   "execution_count": 81,
   "metadata": {
    "collapsed": true
   },
   "outputs": [],
   "source": [
    "# pickle.dump(data, open(\"earthquake_Jan2016.p\", \"wb\" ))\n",
    "data = pickle.load( open( \"earthquake_Jan2016.p\", \"rb\" ) )"
   ]
  },
  {
   "cell_type": "code",
   "execution_count": 83,
   "metadata": {
    "collapsed": false
   },
   "outputs": [
    {
     "data": {
      "text/plain": [
       "9615"
      ]
     },
     "execution_count": 83,
     "metadata": {},
     "output_type": "execute_result"
    }
   ],
   "source": [
    "len(data.features)"
   ]
  },
  {
   "cell_type": "code",
   "execution_count": 109,
   "metadata": {
    "collapsed": false
   },
   "outputs": [
    {
     "data": {
      "text/plain": [
       "[1454201165963,\n",
       " 'nc',\n",
       " 0,\n",
       " None,\n",
       " 'http://earthquake.usgs.gov/earthquakes/eventpage/nc72586646',\n",
       " '72586646',\n",
       " 143,\n",
       " None,\n",
       " 'M 0.4 - 10km W of Cobb, California',\n",
       " 7,\n",
       " 'http://earthquake.usgs.gov/fdsnws/event/1/query?eventid=nc72586646&format=geojson',\n",
       " ',general-link,geoserve,nearby-cities,origin,phase-data,scitech-link,',\n",
       " '10km W of Cobb, California',\n",
       " 1454198395340,\n",
       " -480,\n",
       " 0.009799,\n",
       " 0.43,\n",
       " 'earthquake',\n",
       " None,\n",
       " ',nc72586646,',\n",
       " 0.03,\n",
       " 'md',\n",
       " None,\n",
       " 'automatic',\n",
       " 3,\n",
       " ',nc,']"
      ]
     },
     "execution_count": 109,
     "metadata": {},
     "output_type": "execute_result"
    }
   ],
   "source": [
    "list(data.features[0].properties.values())"
   ]
  },
  {
   "cell_type": "code",
   "execution_count": 152,
   "metadata": {
    "collapsed": false
   },
   "outputs": [],
   "source": [
    "proplist = list()\n",
    "proplist.append(list(annual_earthquakes[0].properties.keys()))\n",
    "for indx, quake in enumerate(annual_earthquakes):\n",
    "    proplist.append(list(quake.properties.values()))\n",
    "np_proplist = np.array(proplist).astype(np.str)\n",
    "np.savetxt('earthquake.tsv', np_proplist, delimiter=\"\\t\", fmt='%s')"
   ]
  },
  {
   "cell_type": "code",
   "execution_count": 154,
   "metadata": {
    "collapsed": true
   },
   "outputs": [],
   "source": [
    "cnt = 0\n",
    "proplist = list()\n",
    "proplist.append(list(annual_earthquakes[0].properties.keys()))\n",
    "for indx, quake in enumerate(annual_earthquakes):\n",
    "    if(cnt==1000):\n",
    "        break\n",
    "    else:\n",
    "        proplist.append(list(quake.properties.values()))\n",
    "        cnt += 1\n",
    "np_proplist = np.array(proplist).astype(np.str)\n",
    "np.savetxt('earthquake_Jan2016_smaller.tsv', np_proplist, delimiter=\"\\t\", fmt='%s')"
   ]
  },
  {
   "cell_type": "code",
   "execution_count": 118,
   "metadata": {
    "collapsed": false
   },
   "outputs": [],
   "source": [
    "proplist.append(list(data.features[0].properties.keys()))\n",
    "proplist.append(list(data.features[0].properties.values()))\n",
    "proplist.append(list(data.features[1].properties.values()))"
   ]
  },
  {
   "cell_type": "code",
   "execution_count": 216,
   "metadata": {
    "collapsed": false
   },
   "outputs": [],
   "source": [
    "np_proplist = np.array(proplist).astype(np.str)"
   ]
  },
  {
   "cell_type": "code",
   "execution_count": 148,
   "metadata": {
    "collapsed": false
   },
   "outputs": [],
   "source": [
    "# with open('earthquake.csv','wb') as f:\n",
    "# #     np.savetxt(f,x,fmt='%.5f')\n",
    "np.savetxt('earthquake.tsv', np_proplist, delimiter=\"\\t\", fmt='%s')"
   ]
  },
  {
   "cell_type": "code",
   "execution_count": 2,
   "metadata": {
    "collapsed": true
   },
   "outputs": [],
   "source": [
    "annual_earthquakes = pickle.load( open( \"earthquake_2016.p\", \"rb\" ) )"
   ]
  },
  {
   "cell_type": "code",
   "execution_count": 3,
   "metadata": {
    "collapsed": false
   },
   "outputs": [
    {
     "data": {
      "text/plain": [
       "-122.8478317"
      ]
     },
     "execution_count": 3,
     "metadata": {},
     "output_type": "execute_result"
    }
   ],
   "source": [
    "annual_earthquakes[0].geometry.coordinates[0]"
   ]
  },
  {
   "cell_type": "code",
   "execution_count": 4,
   "metadata": {
    "collapsed": false
   },
   "outputs": [],
   "source": [
    "cnt = 0\n",
    "proplist = list()\n",
    "keys = list(annual_earthquakes[0].properties.keys())\n",
    "keys.append('long')\n",
    "keys.append('lat')\n",
    "proplist.append(keys)\n",
    "for indx, quake in enumerate(annual_earthquakes):\n",
    "    values = list(quake.properties.values())\n",
    "    values.append(quake.geometry.coordinates[0])\n",
    "    values.append(quake.geometry.coordinates[1])\n",
    "    proplist.append(values)\n",
    "np_proplist = np.array(proplist).astype(np.str)"
   ]
  },
  {
   "cell_type": "code",
   "execution_count": 5,
   "metadata": {
    "collapsed": false
   },
   "outputs": [
    {
     "name": "stderr",
     "output_type": "stream",
     "text": [
      "C:\\Python35\\lib\\site-packages\\ipykernel\\__main__.py:6: FutureWarning: convert_objects is deprecated.  Use the data-type specific converters pd.to_datetime, pd.to_timedelta and pd.to_numeric.\n"
     ]
    }
   ],
   "source": [
    "df = pd.DataFrame(np_proplist[1:],columns=list(np_proplist[0]))\n",
    "df = df.set_index('time')\n",
    "# df.index = (df.index/1000).astype(np.int64)\n",
    "df.index = pd.to_datetime(df.index ,unit='ms')\n",
    "df = df.convert_objects(convert_numeric=True)\n",
    "df = df.fillna(0)\n",
    "df = df.sort_index()"
   ]
  },
  {
   "cell_type": "code",
   "execution_count": 338,
   "metadata": {
    "collapsed": false
   },
   "outputs": [],
   "source": [
    "# eq_sorted[['net','tsunami','felt','code','magType','nst','dmin','mag','type','rms','ids','gap','alert','status','sig','title','cdi']]"
   ]
  },
  {
   "cell_type": "code",
   "execution_count": 30,
   "metadata": {
    "collapsed": false
   },
   "outputs": [],
   "source": [
    "# df = df.convert_objects(convert_numeric=True)\n",
    "# http://stackoverflow.com/questions/24082784/pandas-dataframe-groupby-datetime-month\n",
    "pdg = pd.groupby(df,by=[df.index.month,df.index.year])"
   ]
  },
  {
   "cell_type": "code",
   "execution_count": 51,
   "metadata": {
    "collapsed": false
   },
   "outputs": [
    {
     "data": {
      "text/plain": [
       "<matplotlib.axes._subplots.AxesSubplot at 0x1e374aee5f8>"
      ]
     },
     "execution_count": 51,
     "metadata": {},
     "output_type": "execute_result"
    },
    {
     "data": {
      "image/png": "[encoded data removed]",
      "text/plain": [
       "<matplotlib.figure.Figure at 0x1e374d49e10>"
      ]
     },
     "metadata": {},
     "output_type": "display_data"
    }
   ],
   "source": [
    "pdg.count()[['code']].plot(kind='bar')"
   ]
  },
  {
   "cell_type": "code",
   "execution_count": 37,
   "metadata": {
    "collapsed": true
   },
   "outputs": [],
   "source": [
    "pd_mag = pd.groupby(df,by=[df.magType])"
   ]
  },
  {
   "cell_type": "code",
   "execution_count": 44,
   "metadata": {
    "collapsed": false
   },
   "outputs": [
    {
     "name": "stderr",
     "output_type": "stream",
     "text": [
      "C:\\Python35\\lib\\site-packages\\ipykernel\\__main__.py:1: FutureWarning: sort(....) is deprecated, use sort_index(.....)\n",
      "  if __name__ == '__main__':\n"
     ]
    },
    {
     "data": {
      "text/html": [
       "<div>\n",
       "<table border=\"1\" class=\"dataframe\">\n",
       "  <thead>\n",
       "    <tr style=\"text-align: right;\">\n",
       "      <th></th>\n",
       "      <th>code</th>\n",
       "    </tr>\n",
       "    <tr>\n",
       "      <th>magType</th>\n",
       "      <th></th>\n",
       "    </tr>\n",
       "  </thead>\n",
       "  <tbody>\n",
       "    <tr>\n",
       "      <th>Mb</th>\n",
       "      <td>6</td>\n",
       "    </tr>\n",
       "    <tr>\n",
       "      <th>Md</th>\n",
       "      <td>3089</td>\n",
       "    </tr>\n",
       "    <tr>\n",
       "      <th>Ml</th>\n",
       "      <td>25</td>\n",
       "    </tr>\n",
       "    <tr>\n",
       "      <th>Mw</th>\n",
       "      <td>1</td>\n",
       "    </tr>\n",
       "    <tr>\n",
       "      <th>None</th>\n",
       "      <td>186</td>\n",
       "    </tr>\n",
       "    <tr>\n",
       "      <th>Unknown</th>\n",
       "      <td>1</td>\n",
       "    </tr>\n",
       "    <tr>\n",
       "      <th>mb</th>\n",
       "      <td>10630</td>\n",
       "    </tr>\n",
       "    <tr>\n",
       "      <th>mb_lg</th>\n",
       "      <td>310</td>\n",
       "    </tr>\n",
       "    <tr>\n",
       "      <th>md</th>\n",
       "      <td>20725</td>\n",
       "    </tr>\n",
       "    <tr>\n",
       "      <th>mh</th>\n",
       "      <td>20</td>\n",
       "    </tr>\n",
       "    <tr>\n",
       "      <th>ml</th>\n",
       "      <td>61288</td>\n",
       "    </tr>\n",
       "    <tr>\n",
       "      <th>mlg</th>\n",
       "      <td>1</td>\n",
       "    </tr>\n",
       "    <tr>\n",
       "      <th>mlr</th>\n",
       "      <td>3</td>\n",
       "    </tr>\n",
       "    <tr>\n",
       "      <th>ms_20</th>\n",
       "      <td>1</td>\n",
       "    </tr>\n",
       "    <tr>\n",
       "      <th>mw</th>\n",
       "      <td>60</td>\n",
       "    </tr>\n",
       "    <tr>\n",
       "      <th>mwb</th>\n",
       "      <td>54</td>\n",
       "    </tr>\n",
       "    <tr>\n",
       "      <th>mwc</th>\n",
       "      <td>34</td>\n",
       "    </tr>\n",
       "    <tr>\n",
       "      <th>mwp</th>\n",
       "      <td>3</td>\n",
       "    </tr>\n",
       "    <tr>\n",
       "      <th>mwr</th>\n",
       "      <td>495</td>\n",
       "    </tr>\n",
       "    <tr>\n",
       "      <th>mww</th>\n",
       "      <td>424</td>\n",
       "    </tr>\n",
       "  </tbody>\n",
       "</table>\n",
       "</div>"
      ],
      "text/plain": [
       "          code\n",
       "magType       \n",
       "Mb           6\n",
       "Md        3089\n",
       "Ml          25\n",
       "Mw           1\n",
       "None       186\n",
       "Unknown      1\n",
       "mb       10630\n",
       "mb_lg      310\n",
       "md       20725\n",
       "mh          20\n",
       "ml       61288\n",
       "mlg          1\n",
       "mlr          3\n",
       "ms_20        1\n",
       "mw          60\n",
       "mwb         54\n",
       "mwc         34\n",
       "mwp          3\n",
       "mwr        495\n",
       "mww        424"
      ]
     },
     "execution_count": 44,
     "metadata": {},
     "output_type": "execute_result"
    }
   ],
   "source": [
    "pd_mag.count()[['code']]"
   ]
  },
  {
   "cell_type": "code",
   "execution_count": 8,
   "metadata": {
    "collapsed": false
   },
   "outputs": [
    {
     "data": {
      "text/plain": [
       "numpy.float64"
      ]
     },
     "execution_count": 8,
     "metadata": {},
     "output_type": "execute_result"
    }
   ],
   "source": [
    "type(df[['mag']].ix[0,0])"
   ]
  },
  {
   "cell_type": "code",
   "execution_count": 373,
   "metadata": {
    "collapsed": false
   },
   "outputs": [
    {
     "data": {
      "text/plain": [
       "mag    1.66139\n",
       "dtype: float64"
      ]
     },
     "execution_count": 373,
     "metadata": {},
     "output_type": "execute_result"
    }
   ],
   "source": [
    "df[['mag']].mean()"
   ]
  },
  {
   "cell_type": "code",
   "execution_count": 182,
   "metadata": {
    "collapsed": false
   },
   "outputs": [],
   "source": [
    "dates = pd.date_range('20130101', periods=6)\n",
    "df = pd.DataFrame(np.random.randn(6,4), index=dates, columns=list('ABCD'))"
   ]
  },
  {
   "cell_type": "code",
   "execution_count": 183,
   "metadata": {
    "collapsed": false
   },
   "outputs": [
    {
     "data": {
      "text/html": [
       "<div>\n",
       "<table border=\"1\" class=\"dataframe\">\n",
       "  <thead>\n",
       "    <tr style=\"text-align: right;\">\n",
       "      <th></th>\n",
       "      <th>A</th>\n",
       "      <th>B</th>\n",
       "      <th>C</th>\n",
       "      <th>D</th>\n",
       "    </tr>\n",
       "    <tr>\n",
       "      <th>time</th>\n",
       "      <th></th>\n",
       "      <th></th>\n",
       "      <th></th>\n",
       "      <th></th>\n",
       "    </tr>\n",
       "  </thead>\n",
       "  <tbody>\n",
       "    <tr>\n",
       "      <th>2013-01-01</th>\n",
       "      <td>-1.132757</td>\n",
       "      <td>-0.407525</td>\n",
       "      <td>0.835768</td>\n",
       "      <td>-2.194102</td>\n",
       "    </tr>\n",
       "    <tr>\n",
       "      <th>2013-01-02</th>\n",
       "      <td>0.721517</td>\n",
       "      <td>1.968180</td>\n",
       "      <td>-1.765901</td>\n",
       "      <td>0.722515</td>\n",
       "    </tr>\n",
       "    <tr>\n",
       "      <th>2013-01-03</th>\n",
       "      <td>0.520640</td>\n",
       "      <td>0.221484</td>\n",
       "      <td>0.307001</td>\n",
       "      <td>-0.019705</td>\n",
       "    </tr>\n",
       "  </tbody>\n",
       "</table>\n",
       "</div>"
      ],
      "text/plain": [
       "                   A         B         C         D\n",
       "time                                              \n",
       "2013-01-01 -1.132757 -0.407525  0.835768 -2.194102\n",
       "2013-01-02  0.721517  1.968180 -1.765901  0.722515\n",
       "2013-01-03  0.520640  0.221484  0.307001 -0.019705"
      ]
     },
     "execution_count": 183,
     "metadata": {},
     "output_type": "execute_result"
    }
   ],
   "source": [
    "\n",
    "df.index.name = 'time'\n",
    "df[0:3]"
   ]
  },
  {
   "cell_type": "code",
   "execution_count": 208,
   "metadata": {
    "collapsed": false,
    "scrolled": true
   },
   "outputs": [
    {
     "data": {
      "text/plain": [
       "updated                                        1460156778040\n",
       "net                                                       us\n",
       "tsunami                                                    0\n",
       "felt                                                    None\n",
       "url        http://earthquake.usgs.gov/earthquakes/eventpa...\n",
       "code                                                20004v82\n",
       "mmi                                                     None\n",
       "magType                                                   mb\n",
       "nst                                                     None\n",
       "detail     http://earthquake.usgs.gov/fdsnws/event/1/quer...\n",
       "types      ,geoserve,nearby-cities,origin,phase-data,tect...\n",
       "dmin                                                   1.383\n",
       "tz                                                       600\n",
       "place                  138km SSW of Kokopo, Papua New Guinea\n",
       "mag                                                      4.4\n",
       "type                                              earthquake\n",
       "rms                                                     0.67\n",
       "cdi                                                     None\n",
       "ids                                             ,us20004v82,\n",
       "sources                                                 ,us,\n",
       "gap                                                       89\n",
       "alert                                                   None\n",
       "status                                              reviewed\n",
       "sig                                                      298\n",
       "title          M 4.4 - 138km SSW of Kokopo, Papua New Guinea\n",
       "Name: 2016-01-28 01:50:13, dtype: object"
      ]
     },
     "execution_count": 208,
     "metadata": {},
     "output_type": "execute_result"
    }
   ],
   "source": [
    "df.ix[-1]"
   ]
  },
  {
   "cell_type": "code",
   "execution_count": 268,
   "metadata": {
    "collapsed": true
   },
   "outputs": [],
   "source": [
    "df = result"
   ]
  },
  {
   "cell_type": "code",
   "execution_count": 275,
   "metadata": {
    "collapsed": false
   },
   "outputs": [
    {
     "data": {
      "text/plain": [
       "14627"
      ]
     },
     "execution_count": 275,
     "metadata": {},
     "output_type": "execute_result"
    }
   ],
   "source": [
    "len(df[df.felt != 'None'])"
   ]
  },
  {
   "cell_type": "code",
   "execution_count": 280,
   "metadata": {
    "collapsed": false
   },
   "outputs": [
    {
     "data": {
      "text/html": [
       "<div>\n",
       "<table border=\"1\" class=\"dataframe\">\n",
       "  <thead>\n",
       "    <tr style=\"text-align: right;\">\n",
       "      <th></th>\n",
       "      <th>felt</th>\n",
       "    </tr>\n",
       "    <tr>\n",
       "      <th>time</th>\n",
       "      <th></th>\n",
       "    </tr>\n",
       "  </thead>\n",
       "  <tbody>\n",
       "    <tr>\n",
       "      <th>2016-01-01 00:30:04.900</th>\n",
       "      <td>0</td>\n",
       "    </tr>\n",
       "    <tr>\n",
       "      <th>2016-01-01 00:37:53.000</th>\n",
       "      <td>1</td>\n",
       "    </tr>\n",
       "    <tr>\n",
       "      <th>2016-01-01 00:37:58.700</th>\n",
       "      <td>0</td>\n",
       "    </tr>\n",
       "    <tr>\n",
       "      <th>2016-01-01 02:00:39.950</th>\n",
       "      <td>0</td>\n",
       "    </tr>\n",
       "    <tr>\n",
       "      <th>2016-01-01 02:06:45.820</th>\n",
       "      <td>3</td>\n",
       "    </tr>\n",
       "    <tr>\n",
       "      <th>2016-01-01 02:36:58.930</th>\n",
       "      <td>0</td>\n",
       "    </tr>\n",
       "    <tr>\n",
       "      <th>2016-01-01 03:13:20.800</th>\n",
       "      <td>1</td>\n",
       "    </tr>\n",
       "    <tr>\n",
       "      <th>2016-01-01 03:26:08.910</th>\n",
       "      <td>0</td>\n",
       "    </tr>\n",
       "    <tr>\n",
       "      <th>2016-01-01 03:29:31.800</th>\n",
       "      <td>5</td>\n",
       "    </tr>\n",
       "    <tr>\n",
       "      <th>2016-01-01 04:47:11.480</th>\n",
       "      <td>5</td>\n",
       "    </tr>\n",
       "    <tr>\n",
       "      <th>2016-01-01 05:10:42.000</th>\n",
       "      <td>0</td>\n",
       "    </tr>\n",
       "    <tr>\n",
       "      <th>2016-01-01 05:28:57.000</th>\n",
       "      <td>0</td>\n",
       "    </tr>\n",
       "    <tr>\n",
       "      <th>2016-01-01 05:46:17.430</th>\n",
       "      <td>0</td>\n",
       "    </tr>\n",
       "    <tr>\n",
       "      <th>2016-01-01 06:03:32.400</th>\n",
       "      <td>0</td>\n",
       "    </tr>\n",
       "    <tr>\n",
       "      <th>2016-01-01 06:57:19.500</th>\n",
       "      <td>7</td>\n",
       "    </tr>\n",
       "    <tr>\n",
       "      <th>2016-01-01 07:45:46.000</th>\n",
       "      <td>0</td>\n",
       "    </tr>\n",
       "    <tr>\n",
       "      <th>2016-01-01 07:59:08.700</th>\n",
       "      <td>0</td>\n",
       "    </tr>\n",
       "    <tr>\n",
       "      <th>2016-01-01 08:41:23.400</th>\n",
       "      <td>1</td>\n",
       "    </tr>\n",
       "    <tr>\n",
       "      <th>2016-01-01 08:46:58.690</th>\n",
       "      <td>0</td>\n",
       "    </tr>\n",
       "    <tr>\n",
       "      <th>2016-01-01 09:11:14.070</th>\n",
       "      <td>0</td>\n",
       "    </tr>\n",
       "    <tr>\n",
       "      <th>2016-01-01 09:18:26.300</th>\n",
       "      <td>0</td>\n",
       "    </tr>\n",
       "    <tr>\n",
       "      <th>2016-01-01 11:16:49.860</th>\n",
       "      <td>0</td>\n",
       "    </tr>\n",
       "    <tr>\n",
       "      <th>2016-01-01 11:25:04.500</th>\n",
       "      <td>1</td>\n",
       "    </tr>\n",
       "    <tr>\n",
       "      <th>2016-01-01 11:39:39.800</th>\n",
       "      <td>811</td>\n",
       "    </tr>\n",
       "    <tr>\n",
       "      <th>2016-01-01 12:25:51.710</th>\n",
       "      <td>0</td>\n",
       "    </tr>\n",
       "    <tr>\n",
       "      <th>2016-01-01 12:36:14.000</th>\n",
       "      <td>0</td>\n",
       "    </tr>\n",
       "    <tr>\n",
       "      <th>2016-01-01 13:26:38.020</th>\n",
       "      <td>0</td>\n",
       "    </tr>\n",
       "    <tr>\n",
       "      <th>2016-01-01 13:40:30.650</th>\n",
       "      <td>27</td>\n",
       "    </tr>\n",
       "    <tr>\n",
       "      <th>2016-01-01 15:02:16.740</th>\n",
       "      <td>0</td>\n",
       "    </tr>\n",
       "    <tr>\n",
       "      <th>2016-01-01 16:42:22.600</th>\n",
       "      <td>0</td>\n",
       "    </tr>\n",
       "    <tr>\n",
       "      <th>...</th>\n",
       "      <td>...</td>\n",
       "    </tr>\n",
       "    <tr>\n",
       "      <th>2016-10-29 21:11:29.150</th>\n",
       "      <td>186</td>\n",
       "    </tr>\n",
       "    <tr>\n",
       "      <th>2016-10-29 21:48:31.290</th>\n",
       "      <td>13</td>\n",
       "    </tr>\n",
       "    <tr>\n",
       "      <th>2016-10-29 22:01:39.050</th>\n",
       "      <td>1</td>\n",
       "    </tr>\n",
       "    <tr>\n",
       "      <th>2016-10-29 23:17:31.270</th>\n",
       "      <td>1</td>\n",
       "    </tr>\n",
       "    <tr>\n",
       "      <th>2016-10-29 23:57:08.700</th>\n",
       "      <td>7</td>\n",
       "    </tr>\n",
       "    <tr>\n",
       "      <th>2016-10-30 00:13:39.110</th>\n",
       "      <td>26</td>\n",
       "    </tr>\n",
       "    <tr>\n",
       "      <th>2016-10-30 00:25:14.920</th>\n",
       "      <td>1</td>\n",
       "    </tr>\n",
       "    <tr>\n",
       "      <th>2016-10-30 03:47:38.480</th>\n",
       "      <td>7</td>\n",
       "    </tr>\n",
       "    <tr>\n",
       "      <th>2016-10-30 04:01:47.390</th>\n",
       "      <td>65</td>\n",
       "    </tr>\n",
       "    <tr>\n",
       "      <th>2016-10-30 04:45:04.670</th>\n",
       "      <td>3</td>\n",
       "    </tr>\n",
       "    <tr>\n",
       "      <th>2016-10-30 04:49:40.900</th>\n",
       "      <td>1</td>\n",
       "    </tr>\n",
       "    <tr>\n",
       "      <th>2016-10-30 05:27:04.870</th>\n",
       "      <td>5</td>\n",
       "    </tr>\n",
       "    <tr>\n",
       "      <th>2016-10-30 06:40:19.200</th>\n",
       "      <td>1104</td>\n",
       "    </tr>\n",
       "    <tr>\n",
       "      <th>2016-10-30 06:57:34.220</th>\n",
       "      <td>2</td>\n",
       "    </tr>\n",
       "    <tr>\n",
       "      <th>2016-10-30 07:13:06.620</th>\n",
       "      <td>1</td>\n",
       "    </tr>\n",
       "    <tr>\n",
       "      <th>2016-10-30 08:36:01.000</th>\n",
       "      <td>4</td>\n",
       "    </tr>\n",
       "    <tr>\n",
       "      <th>2016-10-30 10:21:02.400</th>\n",
       "      <td>37</td>\n",
       "    </tr>\n",
       "    <tr>\n",
       "      <th>2016-10-30 12:07:02.010</th>\n",
       "      <td>13</td>\n",
       "    </tr>\n",
       "    <tr>\n",
       "      <th>2016-10-30 13:25:47.310</th>\n",
       "      <td>5</td>\n",
       "    </tr>\n",
       "    <tr>\n",
       "      <th>2016-10-30 13:34:55.680</th>\n",
       "      <td>5</td>\n",
       "    </tr>\n",
       "    <tr>\n",
       "      <th>2016-10-30 14:33:21.710</th>\n",
       "      <td>1</td>\n",
       "    </tr>\n",
       "    <tr>\n",
       "      <th>2016-10-30 14:42:11.810</th>\n",
       "      <td>3</td>\n",
       "    </tr>\n",
       "    <tr>\n",
       "      <th>2016-10-30 17:58:04.260</th>\n",
       "      <td>12</td>\n",
       "    </tr>\n",
       "    <tr>\n",
       "      <th>2016-10-30 18:21:09.930</th>\n",
       "      <td>4</td>\n",
       "    </tr>\n",
       "    <tr>\n",
       "      <th>2016-10-30 19:26:46.950</th>\n",
       "      <td>6</td>\n",
       "    </tr>\n",
       "    <tr>\n",
       "      <th>2016-11-01 02:48:19.530</th>\n",
       "      <td>1</td>\n",
       "    </tr>\n",
       "    <tr>\n",
       "      <th>2016-11-01 07:56:40.840</th>\n",
       "      <td>19</td>\n",
       "    </tr>\n",
       "    <tr>\n",
       "      <th>2016-11-01 08:52:17.913</th>\n",
       "      <td>1</td>\n",
       "    </tr>\n",
       "    <tr>\n",
       "      <th>2016-11-01 11:02:41.470</th>\n",
       "      <td>36</td>\n",
       "    </tr>\n",
       "    <tr>\n",
       "      <th>2016-11-01 12:18:38.460</th>\n",
       "      <td>0</td>\n",
       "    </tr>\n",
       "  </tbody>\n",
       "</table>\n",
       "<p>14627 rows × 1 columns</p>\n",
       "</div>"
      ],
      "text/plain": [
       "                         felt\n",
       "time                         \n",
       "2016-01-01 00:30:04.900     0\n",
       "2016-01-01 00:37:53.000     1\n",
       "2016-01-01 00:37:58.700     0\n",
       "2016-01-01 02:00:39.950     0\n",
       "2016-01-01 02:06:45.820     3\n",
       "2016-01-01 02:36:58.930     0\n",
       "2016-01-01 03:13:20.800     1\n",
       "2016-01-01 03:26:08.910     0\n",
       "2016-01-01 03:29:31.800     5\n",
       "2016-01-01 04:47:11.480     5\n",
       "2016-01-01 05:10:42.000     0\n",
       "2016-01-01 05:28:57.000     0\n",
       "2016-01-01 05:46:17.430     0\n",
       "2016-01-01 06:03:32.400     0\n",
       "2016-01-01 06:57:19.500     7\n",
       "2016-01-01 07:45:46.000     0\n",
       "2016-01-01 07:59:08.700     0\n",
       "2016-01-01 08:41:23.400     1\n",
       "2016-01-01 08:46:58.690     0\n",
       "2016-01-01 09:11:14.070     0\n",
       "2016-01-01 09:18:26.300     0\n",
       "2016-01-01 11:16:49.860     0\n",
       "2016-01-01 11:25:04.500     1\n",
       "2016-01-01 11:39:39.800   811\n",
       "2016-01-01 12:25:51.710     0\n",
       "2016-01-01 12:36:14.000     0\n",
       "2016-01-01 13:26:38.020     0\n",
       "2016-01-01 13:40:30.650    27\n",
       "2016-01-01 15:02:16.740     0\n",
       "2016-01-01 16:42:22.600     0\n",
       "...                       ...\n",
       "2016-10-29 21:11:29.150   186\n",
       "2016-10-29 21:48:31.290    13\n",
       "2016-10-29 22:01:39.050     1\n",
       "2016-10-29 23:17:31.270     1\n",
       "2016-10-29 23:57:08.700     7\n",
       "2016-10-30 00:13:39.110    26\n",
       "2016-10-30 00:25:14.920     1\n",
       "2016-10-30 03:47:38.480     7\n",
       "2016-10-30 04:01:47.390    65\n",
       "2016-10-30 04:45:04.670     3\n",
       "2016-10-30 04:49:40.900     1\n",
       "2016-10-30 05:27:04.870     5\n",
       "2016-10-30 06:40:19.200  1104\n",
       "2016-10-30 06:57:34.220     2\n",
       "2016-10-30 07:13:06.620     1\n",
       "2016-10-30 08:36:01.000     4\n",
       "2016-10-30 10:21:02.400    37\n",
       "2016-10-30 12:07:02.010    13\n",
       "2016-10-30 13:25:47.310     5\n",
       "2016-10-30 13:34:55.680     5\n",
       "2016-10-30 14:33:21.710     1\n",
       "2016-10-30 14:42:11.810     3\n",
       "2016-10-30 17:58:04.260    12\n",
       "2016-10-30 18:21:09.930     4\n",
       "2016-10-30 19:26:46.950     6\n",
       "2016-11-01 02:48:19.530     1\n",
       "2016-11-01 07:56:40.840    19\n",
       "2016-11-01 08:52:17.913     1\n",
       "2016-11-01 11:02:41.470    36\n",
       "2016-11-01 12:18:38.460     0\n",
       "\n",
       "[14627 rows x 1 columns]"
      ]
     },
     "execution_count": 280,
     "metadata": {},
     "output_type": "execute_result"
    }
   ],
   "source": [
    "df[df.felt != 'None'][['felt']]"
   ]
  },
  {
   "cell_type": "code",
   "execution_count": 60,
   "metadata": {
    "collapsed": false
   },
   "outputs": [
    {
     "data": {
      "text/plain": [
       "282"
      ]
     },
     "execution_count": 60,
     "metadata": {},
     "output_type": "execute_result"
    }
   ],
   "source": [
    "len(df[df.tsunami!=0])"
   ]
  },
  {
   "cell_type": "code",
   "execution_count": 285,
   "metadata": {
    "collapsed": false
   },
   "outputs": [
    {
     "data": {
      "text/plain": [
       "'hi there nilav whose name is ria'"
      ]
     },
     "execution_count": 285,
     "metadata": {},
     "output_type": "execute_result"
    }
   ],
   "source": [
    "n1 = 'nilav'\n",
    "n2 = 'ria'\n",
    "\n",
    "\"hi there %s whose name is %s\" % (n1,n2)"
   ]
  },
  {
   "cell_type": "code",
   "execution_count": 8,
   "metadata": {
    "collapsed": true
   },
   "outputs": [],
   "source": [
    "from IPython.display import HTML\n",
    "import folium\n",
    "from folium.plugins import MarkerCluster\n",
    "from folium import plugins\n",
    "# def display(m, height=300):\n",
    "#     \"\"\"Takes a folium instance and embed HTML.\"\"\"\n",
    "#     m._build_map()\n",
    "#     srcdoc = m.HTML.replace('\"', '&quot;')\n",
    "#     embed = HTML('<iframe srcdoc=\"{0}\" '\n",
    "#                  'style=\"width: 100%; height: {1}px; '\n",
    "#                  'border: none\"></iframe>'.format(srcdoc, height))\n",
    "#     return embed"
   ]
  },
  {
   "cell_type": "code",
   "execution_count": 381,
   "metadata": {
    "collapsed": false
   },
   "outputs": [],
   "source": [
    "\n",
    "map_osm = folium.Map(location=[45.5236, -122.6750])\n",
    "map_osm.save('osm.html')"
   ]
  },
  {
   "cell_type": "markdown",
   "metadata": {},
   "source": [
    "map_1 = folium.Map(location=[45.372, -121.6972], zoom_start=12)\n",
    "folium.Marker([45.3288, -121.6625], popup='Mt. Hood Meadows').add_to(map_1)\n",
    "folium.Marker([45.3311, -121.7113], popup='Timberline Lodge').add_to(map_1)\n",
    "map_1.save('mthood.html')"
   ]
  },
  {
   "cell_type": "code",
   "execution_count": 386,
   "metadata": {
    "collapsed": false
   },
   "outputs": [
    {
     "data": {
      "text/plain": [
       "97356"
      ]
     },
     "execution_count": 386,
     "metadata": {},
     "output_type": "execute_result"
    }
   ],
   "source": [
    "len(annual_earthquakes)"
   ]
  },
  {
   "cell_type": "code",
   "execution_count": 29,
   "metadata": {
    "collapsed": false
   },
   "outputs": [
    {
     "data": {
      "text/plain": [
       "7"
      ]
     },
     "execution_count": 29,
     "metadata": {},
     "output_type": "execute_result"
    }
   ],
   "source": [
    "annual_earthquakes[0].properties['nst']"
   ]
  },
  {
   "cell_type": "code",
   "execution_count": 36,
   "metadata": {
    "collapsed": false
   },
   "outputs": [],
   "source": [
    "# Using USGS style tile\n",
    "url_base = 'http://server.arcgisonline.com/ArcGIS/rest/services/'\n",
    "service = 'NatGeo_World_Map/MapServer/tile/{z}/{y}/{x}'\n",
    "tileset = url_base + service\n",
    "\n",
    "map_1 = folium.Map(location=[45.372, -121.6972], zoom_start=12)\n",
    "\n",
    "map_1 = folium.Map(location=[37.8716, -122.2727], zoom_start=2,\\\n",
    "                control_scale = True, tiles=tileset, attr='USGS style')\n",
    "\n",
    "\n",
    "# folium.Marker([45.3288, -121.6625], popup='Mt. Hood Meadows').add_to(map_1) \n",
    "# folium.Marker([45.3311, -121.7113], popup='Timberline Lodge').add_to(map_1) \n",
    "lons = list()\n",
    "lats = list()\n",
    "mags = list()\n",
    "for indx,quake in  df[0:50000].iterrows():\n",
    "    Y = quake['long']\n",
    "    X = quake['lat']\n",
    "    mag = quake['rms']\n",
    "    lons.append(Y)\n",
    "    lats.append(X)\n",
    "    mags.append(mag)\n",
    "\n",
    "\n",
    "# I am using the magnitude as the weight for the heatmap\n",
    "map_1.add_children(plugins.HeatMap(zip(lats, lons, mags), radius = 10))\n",
    "    \n",
    "# locations = list(zip(lons, lats))\n",
    "# # cluster = MarkerCluster(np.random.uniform(0, 90, (10, 2))).add_to(map_1)\n",
    "# MarkerCluster(locations).add_to(map_1)\n",
    "map_1.save('rms_heatmap.html')"
   ]
  },
  {
   "cell_type": "code",
   "execution_count": null,
   "metadata": {
    "collapsed": true
   },
   "outputs": [],
   "source": [
    "# Pandas with geojson\n",
    "# http://lenguyenthedat.com/drawing-maps-python/"
   ]
  }
 ],
 "metadata": {
  "kernelspec": {
   "display_name": "Python [Root]",
   "language": "python",
   "name": "Python [Root]"
  },
  "language_info": {
   "codemirror_mode": {
    "name": "ipython",
    "version": 3
   },
   "file_extension": ".py",
   "mimetype": "text/x-python",
   "name": "python",
   "nbconvert_exporter": "python",
   "pygments_lexer": "ipython3",
   "version": "3.5.2"
  }
 },
 "nbformat": 4,
 "nbformat_minor": 0
}
